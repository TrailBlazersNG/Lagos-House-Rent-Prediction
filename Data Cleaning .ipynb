{
 "cells": [
  {
   "cell_type": "code",
   "execution_count": 46,
   "id": "d18ab9dd-cec3-4a5a-8e20-791fe9f0cf53",
   "metadata": {},
   "outputs": [],
   "source": [
    "import pandas as pd\n",
    "import numpy as np"
   ]
  },
  {
   "cell_type": "code",
   "execution_count": 47,
   "id": "cc87c61a-b1d3-48df-a63f-c1271a099c4d",
   "metadata": {},
   "outputs": [
    {
     "data": {
      "text/html": [
       "<div>\n",
       "<style scoped>\n",
       "    .dataframe tbody tr th:only-of-type {\n",
       "        vertical-align: middle;\n",
       "    }\n",
       "\n",
       "    .dataframe tbody tr th {\n",
       "        vertical-align: top;\n",
       "    }\n",
       "\n",
       "    .dataframe thead th {\n",
       "        text-align: right;\n",
       "    }\n",
       "</style>\n",
       "<table border=\"1\" class=\"dataframe\">\n",
       "  <thead>\n",
       "    <tr style=\"text-align: right;\">\n",
       "      <th></th>\n",
       "      <th>LOCATION</th>\n",
       "      <th>PRICE</th>\n",
       "      <th>DATE ADDED</th>\n",
       "      <th>BEDROOMS</th>\n",
       "      <th>BATHROOMS</th>\n",
       "      <th>TOILETS</th>\n",
       "      <th>HOUSE_TYPE_NEW</th>\n",
       "    </tr>\n",
       "  </thead>\n",
       "  <tbody>\n",
       "    <tr>\n",
       "      <th>0</th>\n",
       "      <td>Ikoyi</td>\n",
       "      <td>15000000.0</td>\n",
       "      <td>2022-08-12</td>\n",
       "      <td>3</td>\n",
       "      <td>3</td>\n",
       "      <td>4</td>\n",
       "      <td>HOUSE</td>\n",
       "    </tr>\n",
       "    <tr>\n",
       "      <th>1</th>\n",
       "      <td>Ikoyi</td>\n",
       "      <td>10000000.0</td>\n",
       "      <td>2022-08-12</td>\n",
       "      <td>3</td>\n",
       "      <td>3</td>\n",
       "      <td>4</td>\n",
       "      <td>FLAT / APARTMENT</td>\n",
       "    </tr>\n",
       "    <tr>\n",
       "      <th>2</th>\n",
       "      <td>Ikoyi</td>\n",
       "      <td>50000000.0</td>\n",
       "      <td>2022-08-12</td>\n",
       "      <td>5</td>\n",
       "      <td>5</td>\n",
       "      <td>6</td>\n",
       "      <td>HOUSE</td>\n",
       "    </tr>\n",
       "    <tr>\n",
       "      <th>3</th>\n",
       "      <td>Ikoyi</td>\n",
       "      <td>10000000.0</td>\n",
       "      <td>2022-08-10</td>\n",
       "      <td>3</td>\n",
       "      <td>3</td>\n",
       "      <td>4</td>\n",
       "      <td>FLAT / APARTMENT</td>\n",
       "    </tr>\n",
       "    <tr>\n",
       "      <th>4</th>\n",
       "      <td>Ikoyi</td>\n",
       "      <td>14000000.0</td>\n",
       "      <td>2022-08-10</td>\n",
       "      <td>3</td>\n",
       "      <td>3</td>\n",
       "      <td>4</td>\n",
       "      <td>FLAT / APARTMENT</td>\n",
       "    </tr>\n",
       "  </tbody>\n",
       "</table>\n",
       "</div>"
      ],
      "text/plain": [
       "  LOCATION       PRICE  DATE ADDED  BEDROOMS  BATHROOMS  TOILETS  \\\n",
       "0    Ikoyi  15000000.0  2022-08-12         3          3        4   \n",
       "1    Ikoyi  10000000.0  2022-08-12         3          3        4   \n",
       "2    Ikoyi  50000000.0  2022-08-12         5          5        6   \n",
       "3    Ikoyi  10000000.0  2022-08-10         3          3        4   \n",
       "4    Ikoyi  14000000.0  2022-08-10         3          3        4   \n",
       "\n",
       "     HOUSE_TYPE_NEW  \n",
       "0             HOUSE  \n",
       "1  FLAT / APARTMENT  \n",
       "2             HOUSE  \n",
       "3  FLAT / APARTMENT  \n",
       "4  FLAT / APARTMENT  "
      ]
     },
     "execution_count": 47,
     "metadata": {},
     "output_type": "execute_result"
    }
   ],
   "source": [
    "# load our dataset\n",
    "df = pd.read_csv(\"newlagosrent.csv\")\n",
    "df.head()"
   ]
  },
  {
   "cell_type": "code",
   "execution_count": 48,
   "id": "11f17145-a027-4a34-a953-f4eb21fa732d",
   "metadata": {},
   "outputs": [
    {
     "data": {
      "text/plain": [
       "array(['HOUSE', 'FLAT / APARTMENT', 'DETACHED DUPLEX', 'TERRACED DUPLEX',\n",
       "       'BLOCKS OF FLATS', 'MASSIONETTE', 'PENTHOUSE', 'MINI FLAT',\n",
       "       'SELF CONTAIN', 'APARTMENT', 'DETACHED BUNGALOW',\n",
       "       'TERRACED BUNGALOW', 'BOYS QUARTERS', nan, 'STUDIO APARTMENT FLAT',\n",
       "       'BUNGALOW', 'TOWNHOUSE'], dtype=object)"
      ]
     },
     "execution_count": 48,
     "metadata": {},
     "output_type": "execute_result"
    }
   ],
   "source": [
    "# check the differnt unique values in the housetype column\n",
    "df[\"HOUSE_TYPE_NEW\"].unique()"
   ]
  },
  {
   "cell_type": "code",
   "execution_count": 49,
   "id": "d4fec4ab-bd6d-4488-b2d0-eaf365aa6318",
   "metadata": {},
   "outputs": [
    {
     "data": {
      "text/plain": [
       "FLAT / APARTMENT         50074\n",
       "HOUSE                    16802\n",
       "MINI FLAT                 8631\n",
       "BLOCKS OF FLATS           4287\n",
       "DETACHED DUPLEX           4174\n",
       "SELF CONTAIN              2951\n",
       "TERRACED DUPLEX           2213\n",
       "APARTMENT                 2043\n",
       "PENTHOUSE                  491\n",
       "DETACHED BUNGALOW          383\n",
       "BOYS QUARTERS              148\n",
       "MASSIONETTE                127\n",
       "STUDIO APARTMENT FLAT       63\n",
       "TERRACED BUNGALOW           44\n",
       "BUNGALOW                    20\n",
       "TOWNHOUSE                    4\n",
       "Name: HOUSE_TYPE_NEW, dtype: int64"
      ]
     },
     "execution_count": 49,
     "metadata": {},
     "output_type": "execute_result"
    }
   ],
   "source": [
    "df[\"HOUSE_TYPE_NEW\"].value_counts()"
   ]
  },
  {
   "cell_type": "code",
   "execution_count": 50,
   "id": "d046725b-5780-4f01-a6d7-2820f2f251d6",
   "metadata": {},
   "outputs": [
    {
     "data": {
      "text/plain": [
       "LOCATION            0\n",
       "PRICE               0\n",
       "DATE ADDED          0\n",
       "BEDROOMS            0\n",
       "BATHROOMS           0\n",
       "TOILETS             0\n",
       "HOUSE_TYPE_NEW    391\n",
       "dtype: int64"
      ]
     },
     "execution_count": 50,
     "metadata": {},
     "output_type": "execute_result"
    }
   ],
   "source": [
    "df.isnull().sum()"
   ]
  },
  {
   "cell_type": "code",
   "execution_count": 51,
   "id": "be3eef09-4408-4a00-95c8-d4c8463a6ced",
   "metadata": {},
   "outputs": [],
   "source": [
    "df.dropna(inplace = True)"
   ]
  },
  {
   "cell_type": "code",
   "execution_count": 52,
   "id": "35970735-1b70-4612-aa36-87078e0e3ed0",
   "metadata": {},
   "outputs": [
    {
     "data": {
      "text/plain": [
       "LOCATION          0\n",
       "PRICE             0\n",
       "DATE ADDED        0\n",
       "BEDROOMS          0\n",
       "BATHROOMS         0\n",
       "TOILETS           0\n",
       "HOUSE_TYPE_NEW    0\n",
       "dtype: int64"
      ]
     },
     "execution_count": 52,
     "metadata": {},
     "output_type": "execute_result"
    }
   ],
   "source": [
    "df.isnull().sum()"
   ]
  },
  {
   "cell_type": "code",
   "execution_count": 10,
   "id": "b2ceeae1-5e2b-4e15-826b-b07512ea80ac",
   "metadata": {},
   "outputs": [
    {
     "data": {
      "text/plain": [
       "(92455, 7)"
      ]
     },
     "execution_count": 10,
     "metadata": {},
     "output_type": "execute_result"
    }
   ],
   "source": [
    "df.shape"
   ]
  },
  {
   "cell_type": "code",
   "execution_count": 53,
   "id": "b752864c-dd6e-47c5-9bea-b6c98b92e528",
   "metadata": {},
   "outputs": [],
   "source": [
    " df = df[(df['BEDROOMS'] != 0) & (df['BATHROOMS'] != 0) & (df['TOILETS'] != 0)]"
   ]
  },
  {
   "cell_type": "code",
   "execution_count": 54,
   "id": "d8a7f059-e3dd-4f67-9d2f-52fcaf0f8a97",
   "metadata": {},
   "outputs": [
    {
     "data": {
      "text/plain": [
       "(92455, 7)"
      ]
     },
     "execution_count": 54,
     "metadata": {},
     "output_type": "execute_result"
    }
   ],
   "source": [
    "df.shape"
   ]
  },
  {
   "cell_type": "code",
   "execution_count": 55,
   "id": "56d3e28d-b405-4637-a895-7a63d484b63c",
   "metadata": {},
   "outputs": [
    {
     "data": {
      "text/plain": [
       "15113"
      ]
     },
     "execution_count": 55,
     "metadata": {},
     "output_type": "execute_result"
    }
   ],
   "source": [
    "df.duplicated().sum()"
   ]
  },
  {
   "cell_type": "code",
   "execution_count": 56,
   "id": "8ca44fee-c486-4a60-9003-e099af1ea13e",
   "metadata": {},
   "outputs": [],
   "source": [
    "df.drop_duplicates(inplace = True) "
   ]
  },
  {
   "cell_type": "code",
   "execution_count": 57,
   "id": "b9f59f2f-5467-4bf9-a710-79cbeabfc7bb",
   "metadata": {},
   "outputs": [
    {
     "data": {
      "text/plain": [
       "(77342, 7)"
      ]
     },
     "execution_count": 57,
     "metadata": {},
     "output_type": "execute_result"
    }
   ],
   "source": [
    "df.shape"
   ]
  },
  {
   "cell_type": "code",
   "execution_count": 58,
   "id": "d7a527df-aa6a-4de8-9eab-46ac4ea22c71",
   "metadata": {},
   "outputs": [
    {
     "data": {
      "text/plain": [
       "{'FLAT / APARTMENT': 41435,\n",
       " 'HOUSE': 13341,\n",
       " 'MINI FLAT': 7448,\n",
       " 'BLOCKS OF FLATS': 3740,\n",
       " 'DETACHED DUPLEX': 3714,\n",
       " 'SELF CONTAIN': 2609,\n",
       " 'TERRACED DUPLEX': 2013,\n",
       " 'APARTMENT': 1831,\n",
       " 'PENTHOUSE': 445,\n",
       " 'DETACHED BUNGALOW': 373,\n",
       " 'BOYS QUARTERS': 145,\n",
       " 'MASSIONETTE': 123,\n",
       " 'STUDIO APARTMENT FLAT': 58,\n",
       " 'TERRACED BUNGALOW': 44,\n",
       " 'BUNGALOW': 20,\n",
       " 'TOWNHOUSE': 3}"
      ]
     },
     "execution_count": 58,
     "metadata": {},
     "output_type": "execute_result"
    }
   ],
   "source": [
    "df[\"HOUSE_TYPE_NEW\"].value_counts().to_dict()"
   ]
  },
  {
   "cell_type": "code",
   "execution_count": 59,
   "id": "b024220b-22da-473c-b430-2bed15f54e42",
   "metadata": {},
   "outputs": [],
   "source": [
    "# map the fiffernt house typr to a general name\n",
    "House_dict = {'FLAT / APARTMENT': \"FLAT\" ,\n",
    " 'HOUSE': \"HOUSE\",\n",
    " 'MINI FLAT': \"FLAT\",\n",
    " 'BLOCKS OF FLATS': \"BLOCKS OF FLAT\",\n",
    " 'DETACHED DUPLEX': \"DUPLEX\",\n",
    " 'SELF CONTAIN': \"FLAT\",\n",
    " 'TERRACED DUPLEX': \"DUPLEX\",\n",
    " 'APARTMENT': \"FLAT\",\n",
    " 'PENTHOUSE': \"PENTHOUSE\",\n",
    " 'DETACHED BUNGALOW': \"BUNGALOW\",\n",
    " 'BOYS QUARTERS': \"FLAT\",\n",
    " 'MASSIONETTE': \"DUPLEX\",\n",
    " 'STUDIO APARTMENT FLAT': \"STUDIO APARTMENT FLAT\",\n",
    " 'TERRACED BUNGALOW': \"BUNGALOW\",\n",
    " 'BUNGALOW': \"BUNGALOW\",\n",
    " 'TOWNHOUSE': \"DUPLEX\"}"
   ]
  },
  {
   "cell_type": "code",
   "execution_count": 60,
   "id": "d5bd00f2-4ff9-4ed1-80f2-af5e10fe9fa2",
   "metadata": {},
   "outputs": [],
   "source": [
    "df['HOUSE_TYPE'] = df['HOUSE_TYPE_NEW'].map(House_dict)"
   ]
  },
  {
   "cell_type": "code",
   "execution_count": 61,
   "id": "f415aae2-af08-4350-b332-6c9309eb1350",
   "metadata": {},
   "outputs": [
    {
     "data": {
      "text/plain": [
       "array(['HOUSE', 'FLAT', 'DUPLEX', 'BLOCKS OF FLAT', 'PENTHOUSE',\n",
       "       'BUNGALOW', 'STUDIO APARTMENT FLAT'], dtype=object)"
      ]
     },
     "execution_count": 61,
     "metadata": {},
     "output_type": "execute_result"
    }
   ],
   "source": [
    "df['HOUSE_TYPE'].unique()"
   ]
  },
  {
   "cell_type": "code",
   "execution_count": 62,
   "id": "4fe8d727-0994-48a6-b715-4eed2364d73a",
   "metadata": {},
   "outputs": [],
   "source": [
    "df.drop('HOUSE_TYPE_NEW', axis = 1, inplace = True)"
   ]
  },
  {
   "cell_type": "code",
   "execution_count": 63,
   "id": "2340a42a-18cf-4450-b4d2-c8f70b5a4eab",
   "metadata": {},
   "outputs": [
    {
     "data": {
      "text/html": [
       "<div>\n",
       "<style scoped>\n",
       "    .dataframe tbody tr th:only-of-type {\n",
       "        vertical-align: middle;\n",
       "    }\n",
       "\n",
       "    .dataframe tbody tr th {\n",
       "        vertical-align: top;\n",
       "    }\n",
       "\n",
       "    .dataframe thead th {\n",
       "        text-align: right;\n",
       "    }\n",
       "</style>\n",
       "<table border=\"1\" class=\"dataframe\">\n",
       "  <thead>\n",
       "    <tr style=\"text-align: right;\">\n",
       "      <th></th>\n",
       "      <th>LOCATION</th>\n",
       "      <th>PRICE</th>\n",
       "      <th>DATE ADDED</th>\n",
       "      <th>BEDROOMS</th>\n",
       "      <th>BATHROOMS</th>\n",
       "      <th>TOILETS</th>\n",
       "      <th>HOUSE_TYPE</th>\n",
       "    </tr>\n",
       "  </thead>\n",
       "  <tbody>\n",
       "    <tr>\n",
       "      <th>0</th>\n",
       "      <td>Ikoyi</td>\n",
       "      <td>15000000.0</td>\n",
       "      <td>2022-08-12</td>\n",
       "      <td>3</td>\n",
       "      <td>3</td>\n",
       "      <td>4</td>\n",
       "      <td>HOUSE</td>\n",
       "    </tr>\n",
       "    <tr>\n",
       "      <th>1</th>\n",
       "      <td>Ikoyi</td>\n",
       "      <td>10000000.0</td>\n",
       "      <td>2022-08-12</td>\n",
       "      <td>3</td>\n",
       "      <td>3</td>\n",
       "      <td>4</td>\n",
       "      <td>FLAT</td>\n",
       "    </tr>\n",
       "    <tr>\n",
       "      <th>2</th>\n",
       "      <td>Ikoyi</td>\n",
       "      <td>50000000.0</td>\n",
       "      <td>2022-08-12</td>\n",
       "      <td>5</td>\n",
       "      <td>5</td>\n",
       "      <td>6</td>\n",
       "      <td>HOUSE</td>\n",
       "    </tr>\n",
       "    <tr>\n",
       "      <th>3</th>\n",
       "      <td>Ikoyi</td>\n",
       "      <td>10000000.0</td>\n",
       "      <td>2022-08-10</td>\n",
       "      <td>3</td>\n",
       "      <td>3</td>\n",
       "      <td>4</td>\n",
       "      <td>FLAT</td>\n",
       "    </tr>\n",
       "    <tr>\n",
       "      <th>4</th>\n",
       "      <td>Ikoyi</td>\n",
       "      <td>14000000.0</td>\n",
       "      <td>2022-08-10</td>\n",
       "      <td>3</td>\n",
       "      <td>3</td>\n",
       "      <td>4</td>\n",
       "      <td>FLAT</td>\n",
       "    </tr>\n",
       "  </tbody>\n",
       "</table>\n",
       "</div>"
      ],
      "text/plain": [
       "  LOCATION       PRICE  DATE ADDED  BEDROOMS  BATHROOMS  TOILETS HOUSE_TYPE\n",
       "0    Ikoyi  15000000.0  2022-08-12         3          3        4      HOUSE\n",
       "1    Ikoyi  10000000.0  2022-08-12         3          3        4       FLAT\n",
       "2    Ikoyi  50000000.0  2022-08-12         5          5        6      HOUSE\n",
       "3    Ikoyi  10000000.0  2022-08-10         3          3        4       FLAT\n",
       "4    Ikoyi  14000000.0  2022-08-10         3          3        4       FLAT"
      ]
     },
     "execution_count": 63,
     "metadata": {},
     "output_type": "execute_result"
    }
   ],
   "source": [
    "df.head()"
   ]
  },
  {
   "cell_type": "code",
   "execution_count": 64,
   "id": "5fe6c3e6-f52b-49ee-bd30-04659cbca893",
   "metadata": {},
   "outputs": [
    {
     "data": {
      "text/plain": [
       "841"
      ]
     },
     "execution_count": 64,
     "metadata": {},
     "output_type": "execute_result"
    }
   ],
   "source": [
    "df.duplicated().sum()"
   ]
  },
  {
   "cell_type": "code",
   "execution_count": 65,
   "id": "41fb5ce0-dfe7-4d45-affb-78d462acc412",
   "metadata": {},
   "outputs": [
    {
     "data": {
      "text/plain": [
       "LOCATION      0\n",
       "PRICE         0\n",
       "DATE ADDED    0\n",
       "BEDROOMS      0\n",
       "BATHROOMS     0\n",
       "TOILETS       0\n",
       "HOUSE_TYPE    0\n",
       "dtype: int64"
      ]
     },
     "execution_count": 65,
     "metadata": {},
     "output_type": "execute_result"
    }
   ],
   "source": [
    "df.isnull().sum()"
   ]
  },
  {
   "cell_type": "code",
   "execution_count": 66,
   "id": "852f43cb-dc93-4a72-804a-5b970bbde24b",
   "metadata": {},
   "outputs": [],
   "source": [
    "df.drop_duplicates(inplace = True)"
   ]
  },
  {
   "cell_type": "code",
   "execution_count": 67,
   "id": "1553b739-1a20-401a-8e2c-b4b626b6a7d0",
   "metadata": {},
   "outputs": [
    {
     "data": {
      "text/plain": [
       "(76501, 7)"
      ]
     },
     "execution_count": 67,
     "metadata": {},
     "output_type": "execute_result"
    }
   ],
   "source": [
    "df.shape"
   ]
  },
  {
   "cell_type": "code",
   "execution_count": 70,
   "id": "2cad3989-3c65-4923-8b35-a20b5732c76a",
   "metadata": {},
   "outputs": [
    {
     "data": {
      "text/plain": [
       "array(['Ikoyi', 'Yaba', 'Lekki', 'Ajah', 'Victoria Island', 'Ikeja',\n",
       "       'Ilupeju ', 'Isolo', 'Shomolu ', 'Ketu', 'Surulere',\n",
       "       ' Amuwo Odofin ', ' Abule Egba ', 'Oshodi ', 'Apapa ', ' Ajah ',\n",
       "       ' Ikorodu ', ' Ojodu ', ' Ipaja ', 'Egbeda ', 'Ikotun', ' Idimu ',\n",
       "       'Ogba ', ' Ipaja', ' Igando ', ' Akowonjo ', ' Ikate-Lekki',\n",
       "       ' Ikota-Lekki', 'Chevron-Lekki', ' Phase1-Lekki', 'Phase2-Lekki ',\n",
       "       'Vgc-Lekki', ' Ibeju-Lekki', ' Osapa London Lekki', 'Agungi Lekki',\n",
       "       ' Lekki ', ' Victoria Island ', 'Victoria Island ',\n",
       "       ' Opebi-Ikeja ', 'Allen Avenue-Ikeja ', ' GRA-Ikeja ',\n",
       "       'Oregun-Ikeja', ' Ikeja ', ' Akoka-Yaba', 'Alagomeji-Yaba ',\n",
       "       ' Adekunle-Yaba ', ' Abule Oja-Yaba', ' Abule Ijesha-Yaba',\n",
       "       'Onike-Yaba ', ' Jibowu-Yaba ', 'Sabo-Yaba ', ' Iwaya-Yaba ',\n",
       "       ' Ebute Metta-Yaba', 'Fola Agoro-Yaba', 'Yaba ',\n",
       "       ' Ago Palace-Okota', 'Okota', ' Phase1-Gbagada ', 'Phase2-Gbagada',\n",
       "       ' Ifako-Gbagada', 'Oworonshoki-Gbagada ', 'Soluyi-Gbagada',\n",
       "       ' Medina-Gbagada', ' Gbagada', ' Anthony Village-Maryland',\n",
       "       ' Mende-Maryland', ' Maryland ', 'Ikotun-Igando', ' Ojo',\n",
       "       ' Igando', 'Ayobo ', 'Akesan ', ' Egbeda ', ' Fagba-Agege',\n",
       "       'Cement-Agege ', 'Oko Oba-Agege ', ' Ifako-Agege',\n",
       "       ' Iju Ishaga-Agege', ' Orile-Agege ', ' Agege ',\n",
       "       'Marina-Lagos Island', 'Obalende-Lagos Island ', 'Lagos Island',\n",
       "       'Ilasamaja-Mushin', 'Mushin', 'Phase1-Magodo', 'Phase2-Magodo',\n",
       "       'Phase2-Magodo ', 'Phase1-Magodo ', 'Ojota ', 'Ogudu ',\n",
       "       'Alapere-Ketu', 'Mile12-Ketu', 'Shangisha-Ketu', ' Ikosi-Ketu',\n",
       "       'Epe', 'Alimosho ', 'Bariga', ' Ejigbo', 'Sangotedo', 'Badagry',\n",
       "       'Ogba', 'Iganmu-Orile ', 'Fagba-Agege', 'Iju Ishaga-Agege',\n",
       "       'Iganmu-Orile', 'Shomolu', 'surulere'], dtype=object)"
      ]
     },
     "execution_count": 70,
     "metadata": {},
     "output_type": "execute_result"
    }
   ],
   "source": [
    "df[\"LOCATION\"].unique()"
   ]
  },
  {
   "cell_type": "code",
   "execution_count": 71,
   "id": "954ebf21-e2bc-410b-b72f-453ed0c462c8",
   "metadata": {},
   "outputs": [],
   "source": [
    "df[\"LOCATION\"] = df[\"LOCATION\"].str.capitalize()"
   ]
  },
  {
   "cell_type": "code",
   "execution_count": 72,
   "id": "6e99c09f-c2e4-4976-80b8-eff6f784ee18",
   "metadata": {},
   "outputs": [],
   "source": [
    "df[\"LOCATION\"] = df[\"LOCATION\"].str.strip()"
   ]
  },
  {
   "cell_type": "code",
   "execution_count": 73,
   "id": "98c4a402-0eef-4032-a572-a35638dcfa5c",
   "metadata": {},
   "outputs": [
    {
     "data": {
      "text/plain": [
       "array(['Ikoyi', 'Yaba', 'Lekki', 'Ajah', 'Victoria island', 'Ikeja',\n",
       "       'Ilupeju', 'Isolo', 'Shomolu', 'Ketu', 'Surulere', 'amuwo odofin',\n",
       "       'abule egba', 'Oshodi', 'Apapa', 'ajah', 'ikorodu', 'ojodu',\n",
       "       'ipaja', 'Egbeda', 'Ikotun', 'idimu', 'Ogba', 'igando', 'akowonjo',\n",
       "       'ikate-lekki', 'ikota-lekki', 'Chevron-lekki', 'phase1-lekki',\n",
       "       'Phase2-lekki', 'Vgc-lekki', 'ibeju-lekki', 'osapa london lekki',\n",
       "       'Agungi lekki', 'lekki', 'victoria island', 'opebi-ikeja',\n",
       "       'Allen avenue-ikeja', 'gra-ikeja', 'Oregun-ikeja', 'ikeja',\n",
       "       'akoka-yaba', 'Alagomeji-yaba', 'adekunle-yaba', 'abule oja-yaba',\n",
       "       'abule ijesha-yaba', 'Onike-yaba', 'jibowu-yaba', 'Sabo-yaba',\n",
       "       'iwaya-yaba', 'ebute metta-yaba', 'Fola agoro-yaba',\n",
       "       'ago palace-okota', 'Okota', 'phase1-gbagada', 'Phase2-gbagada',\n",
       "       'ifako-gbagada', 'Oworonshoki-gbagada', 'Soluyi-gbagada',\n",
       "       'medina-gbagada', 'gbagada', 'anthony village-maryland',\n",
       "       'mende-maryland', 'maryland', 'Ikotun-igando', 'ojo', 'Ayobo',\n",
       "       'Akesan', 'egbeda', 'fagba-agege', 'Cement-agege', 'Oko oba-agege',\n",
       "       'ifako-agege', 'iju ishaga-agege', 'orile-agege', 'agege',\n",
       "       'Marina-lagos island', 'Obalende-lagos island', 'Lagos island',\n",
       "       'Ilasamaja-mushin', 'Mushin', 'Phase1-magodo', 'Phase2-magodo',\n",
       "       'Ojota', 'Ogudu', 'Alapere-ketu', 'Mile12-ketu', 'Shangisha-ketu',\n",
       "       'ikosi-ketu', 'Epe', 'Alimosho', 'Bariga', 'ejigbo', 'Sangotedo',\n",
       "       'Badagry', 'Iganmu-orile', 'Fagba-agege', 'Iju ishaga-agege'],\n",
       "      dtype=object)"
      ]
     },
     "execution_count": 73,
     "metadata": {},
     "output_type": "execute_result"
    }
   ],
   "source": [
    "df[\"LOCATION\"].unique()"
   ]
  },
  {
   "cell_type": "code",
   "execution_count": 75,
   "id": "6106db54-1725-42de-b75b-9ffd7f45cefc",
   "metadata": {},
   "outputs": [
    {
     "data": {
      "text/plain": [
       "FLAT                     52802\n",
       "HOUSE                    13341\n",
       "DUPLEX                    5678\n",
       "BLOCKS OF FLAT            3740\n",
       "PENTHOUSE                  445\n",
       "BUNGALOW                   437\n",
       "STUDIO APARTMENT FLAT       58\n",
       "Name: HOUSE_TYPE, dtype: int64"
      ]
     },
     "execution_count": 75,
     "metadata": {},
     "output_type": "execute_result"
    }
   ],
   "source": [
    "df[\"HOUSE_TYPE\"].value_counts()"
   ]
  },
  {
   "cell_type": "code",
   "execution_count": 76,
   "id": "f45ab508-e3ce-46d3-b15a-1ef7e74ff151",
   "metadata": {},
   "outputs": [],
   "source": [
    " df_new = df[(df['HOUSE_TYPE'] != \"BLOCKS OF FLAT\") & (df['HOUSE_TYPE'] != \"PENTHOUSE\") & (df['HOUSE_TYPE'] != \"STUDIO APARTMENT FLAT\")]"
   ]
  },
  {
   "cell_type": "code",
   "execution_count": 77,
   "id": "cdca7398-8275-47a9-959f-e41ff89bbccf",
   "metadata": {},
   "outputs": [
    {
     "data": {
      "text/plain": [
       "FLAT        52802\n",
       "HOUSE       13341\n",
       "DUPLEX       5678\n",
       "BUNGALOW      437\n",
       "Name: HOUSE_TYPE, dtype: int64"
      ]
     },
     "execution_count": 77,
     "metadata": {},
     "output_type": "execute_result"
    }
   ],
   "source": [
    "df_new[\"HOUSE_TYPE\"].value_counts()"
   ]
  },
  {
   "cell_type": "code",
   "execution_count": 78,
   "id": "a8384903-788e-4a65-9ecc-1a17e990ecbf",
   "metadata": {},
   "outputs": [
    {
     "data": {
      "text/plain": [
       "(72258, 7)"
      ]
     },
     "execution_count": 78,
     "metadata": {},
     "output_type": "execute_result"
    }
   ],
   "source": [
    "df_new.shape"
   ]
  },
  {
   "cell_type": "code",
   "execution_count": 80,
   "id": "69f383ce-1404-4019-88ed-ff6e061a781a",
   "metadata": {},
   "outputs": [
    {
     "name": "stdout",
     "output_type": "stream",
     "text": [
      "<class 'pandas.core.frame.DataFrame'>\n",
      "Int64Index: 76501 entries, 0 to 92845\n",
      "Data columns (total 7 columns):\n",
      " #   Column      Non-Null Count  Dtype  \n",
      "---  ------      --------------  -----  \n",
      " 0   LOCATION    76501 non-null  object \n",
      " 1   PRICE       76501 non-null  float64\n",
      " 2   DATE ADDED  76501 non-null  object \n",
      " 3   BEDROOMS    76501 non-null  int64  \n",
      " 4   BATHROOMS   76501 non-null  int64  \n",
      " 5   TOILETS     76501 non-null  int64  \n",
      " 6   HOUSE_TYPE  76501 non-null  object \n",
      "dtypes: float64(1), int64(3), object(3)\n",
      "memory usage: 4.7+ MB\n"
     ]
    }
   ],
   "source": [
    "df.info()"
   ]
  },
  {
   "cell_type": "code",
   "execution_count": 104,
   "id": "3e2a737a-5284-437f-b4e0-e73e67dfbaa6",
   "metadata": {},
   "outputs": [],
   "source": [
    "df.to_csv(\"model_data.csv\", index = False)"
   ]
  }
 ],
 "metadata": {
  "kernelspec": {
   "display_name": "Python 3 (ipykernel)",
   "language": "python",
   "name": "python3"
  },
  "language_info": {
   "codemirror_mode": {
    "name": "ipython",
    "version": 3
   },
   "file_extension": ".py",
   "mimetype": "text/x-python",
   "name": "python",
   "nbconvert_exporter": "python",
   "pygments_lexer": "ipython3",
   "version": "3.9.7"
  }
 },
 "nbformat": 4,
 "nbformat_minor": 5
}
