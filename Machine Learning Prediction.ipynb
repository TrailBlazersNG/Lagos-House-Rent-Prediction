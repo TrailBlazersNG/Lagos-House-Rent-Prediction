{
 "cells": [
  {
   "cell_type": "code",
   "execution_count": 1,
   "id": "f3a84979-32d9-4ca5-b6d7-d95ac81c18bf",
   "metadata": {},
   "outputs": [],
   "source": [
    "import math\n",
    "import pandas as pd\n",
    "import numpy as np\n",
    "import matplotlib.pyplot as plt\n",
    "import seaborn as sns\n",
    "import plotly.express as px\n",
    "from glob import glob\n",
    "import warnings;warnings.filterwarnings(action=\"ignore\")\n",
    "import missingno\n",
    "#warnings.simplefilter(action=\"ignore\", category='all')\n",
    "\n",
    "#feature selection\n",
    "from imblearn.over_sampling import RandomOverSampler\n",
    "from imblearn.under_sampling import RandomUnderSampler\n",
    "from sklearn.impute import SimpleImputer\n",
    "from sklearn.tree import DecisionTreeRegressor\n",
    "from sklearn.model_selection import train_test_split\n",
    "from category_encoders import OrdinalEncoder\n",
    "from sklearn.preprocessing import OneHotEncoder\n",
    "from sklearn.preprocessing import OrdinalEncoder as sklearn_ord\n",
    "\n",
    "\n",
    "#feature extraction\n",
    "from sklearn.pipeline import make_pipeline\n",
    "from sklearn.preprocessing import StandardScaler\n",
    "from sklearn.decomposition import PCA\n",
    "from sklearn.compose import ColumnTransformer\n",
    "from sklearn.pipeline import Pipeline\n",
    "from sklearn.model_selection import cross_val_score\n",
    "from sklearn.feature_selection import mutual_info_classif\n",
    "\n",
    "#models to use\n",
    "from sklearn.svm import SVR\n",
    "from sklearn.linear_model import SGDRegressor\n",
    "from sklearn.tree import DecisionTreeRegressor\n",
    "from sklearn.ensemble import RandomForestRegressor\n",
    "from xgboost.sklearn import XGBRegressor\n",
    "from catboost import CatBoostRegressor\n",
    "from sklearn.kernel_ridge import KernelRidge\n",
    "from sklearn.ensemble import GradientBoostingRegressor\n",
    "from sklearn.linear_model import Lasso\n",
    "from sklearn.linear_model import Ridge\n",
    "from sklearn.linear_model import LinearRegression\n",
    "#feature metrics\n",
    "from sklearn.metrics import mean_squared_error,mean_absolute_error,r2_score\n",
    "import time"
   ]
  },
  {
   "cell_type": "code",
   "execution_count": 3,
   "id": "e8b772e2-c1cd-4286-bd05-136594733d59",
   "metadata": {},
   "outputs": [],
   "source": [
    "# Import the data\n",
    "df = pd.read_csv(\"model_data.csv\")"
   ]
  },
  {
   "cell_type": "code",
   "execution_count": 4,
   "id": "ac171ac2-be00-47ea-b766-abfb5868271f",
   "metadata": {},
   "outputs": [],
   "source": [
    "#drop duplicates if any\n",
    "df.drop_duplicates(inplace=True)"
   ]
  },
  {
   "cell_type": "code",
   "execution_count": 5,
   "id": "bfc32ca3-c387-433d-8b42-63b4fda7493f",
   "metadata": {},
   "outputs": [
    {
     "data": {
      "text/plain": [
       "(70850, 7)"
      ]
     },
     "execution_count": 5,
     "metadata": {},
     "output_type": "execute_result"
    }
   ],
   "source": [
    "# check for data shape after dropping duplicates\n",
    "df.shape"
   ]
  },
  {
   "cell_type": "code",
   "execution_count": 6,
   "id": "379ae418-6eb9-4294-aa5e-43e681227cf3",
   "metadata": {},
   "outputs": [],
   "source": [
    "df_copy = df.copy()"
   ]
  },
  {
   "cell_type": "code",
   "execution_count": 7,
   "id": "67e6079c-9e3b-439e-a35a-9114261479b3",
   "metadata": {},
   "outputs": [],
   "source": [
    "# reduce the price range to between 300000 and 10000000 \n",
    "df_copy = df_copy[(df_copy['PRICE'] >= 300000) & (df_copy['PRICE'] <= 10000000)]"
   ]
  },
  {
   "cell_type": "code",
   "execution_count": 12,
   "id": "07eafa90-2e30-49d3-9348-b55b32563a52",
   "metadata": {},
   "outputs": [],
   "source": [
    "df_copy[\"LOCATION\"] = df_copy[\"LOCATION\"].str.capitalize()"
   ]
  },
  {
   "cell_type": "code",
   "execution_count": 13,
   "id": "f30a763d-3c98-4eb8-b15d-190670aadb55",
   "metadata": {
    "tags": []
   },
   "outputs": [
    {
     "data": {
      "text/plain": [
       "91"
      ]
     },
     "execution_count": 13,
     "metadata": {},
     "output_type": "execute_result"
    }
   ],
   "source": [
    "df_copy[\"LOCATION\"].nunique()"
   ]
  },
  {
   "cell_type": "code",
   "execution_count": 14,
   "id": "13228dce-5feb-4c39-9e38-b34219b0096a",
   "metadata": {
    "tags": []
   },
   "outputs": [
    {
     "data": {
      "text/plain": [
       "(64821, 7)"
      ]
     },
     "execution_count": 14,
     "metadata": {},
     "output_type": "execute_result"
    }
   ],
   "source": [
    "df_copy.shape"
   ]
  },
  {
   "cell_type": "code",
   "execution_count": 15,
   "id": "d93f7281-c4cd-4e39-94d9-22bb62044d52",
   "metadata": {
    "tags": []
   },
   "outputs": [
    {
     "data": {
      "text/plain": [
       "array(['Ikoyi', 'Yaba', 'Lekki', 'Ajah', 'Victoria island', 'Ikeja',\n",
       "       'Ilupeju', 'Isolo', 'Shomolu', 'Ketu', 'Surulere', 'Amuwo odofin',\n",
       "       'Abule egba', 'Oshodi', 'Apapa', 'Ikorodu', 'Ojodu', 'Ipaja',\n",
       "       'Egbeda', 'Ikotun', 'Idimu', 'Ogba', 'Igando', 'Akowonjo',\n",
       "       'Ikate-lekki', 'Ikota-lekki', 'Chevron-lekki', 'Phase1-lekki',\n",
       "       'Phase2-lekki', 'Vgc-lekki', 'Ibeju-lekki', 'Osapa london lekki',\n",
       "       'Agungi lekki', 'Opebi-ikeja', 'Allen avenue-ikeja', 'Gra-ikeja',\n",
       "       'Oregun-ikeja', 'Akoka-yaba', 'Alagomeji-yaba', 'Adekunle-yaba',\n",
       "       'Abule oja-yaba', 'Abule ijesha-yaba', 'Onike-yaba', 'Jibowu-yaba',\n",
       "       'Sabo-yaba', 'Iwaya-yaba', 'Ebute metta-yaba', 'Fola agoro-yaba',\n",
       "       'Ago palace-okota', 'Okota', 'Phase1-gbagada', 'Phase2-gbagada',\n",
       "       'Ifako-gbagada', 'Oworonshoki-gbagada', 'Soluyi-gbagada',\n",
       "       'Medina-gbagada', 'Gbagada', 'Anthony village-maryland',\n",
       "       'Mende-maryland', 'Maryland', 'Ikotun-igando', 'Ojo', 'Ayobo',\n",
       "       'Akesan', 'Fagba-agege', 'Cement-agege', 'Oko oba-agege',\n",
       "       'Ifako-agege', 'Iju ishaga-agege', 'Orile-agege', 'Agege',\n",
       "       'Marina-lagos island', 'Obalende-lagos island', 'Lagos island',\n",
       "       'Ilasamaja-mushin', 'Mushin', 'Phase1-magodo', 'Phase2-magodo',\n",
       "       'Ojota', 'Ogudu', 'Alapere-ketu', 'Mile12-ketu', 'Shangisha-ketu',\n",
       "       'Ikosi-ketu', 'Epe', 'Alimosho', 'Bariga', 'Ejigbo', 'Sangotedo',\n",
       "       'Badagry', 'Iganmu-orile'], dtype=object)"
      ]
     },
     "execution_count": 15,
     "metadata": {},
     "output_type": "execute_result"
    }
   ],
   "source": [
    "df_copy[\"LOCATION\"].unique()"
   ]
  },
  {
   "cell_type": "code",
   "execution_count": 16,
   "id": "281c50c8-f58a-469a-b57b-25de747c85ca",
   "metadata": {},
   "outputs": [],
   "source": [
    "my_dict = {}"
   ]
  },
  {
   "cell_type": "code",
   "execution_count": 17,
   "id": "ed604f4c-0d91-4f2c-841a-feafc44bfe7c",
   "metadata": {},
   "outputs": [],
   "source": [
    "for i, y in enumerate(list(df_copy[\"LOCATION\"].unique())):\n",
    "    my_dict[y] = i"
   ]
  },
  {
   "cell_type": "code",
   "execution_count": 18,
   "id": "26925183-f131-4c3c-89e6-3dedc5c457dc",
   "metadata": {
    "tags": []
   },
   "outputs": [
    {
     "data": {
      "text/plain": [
       "{'Ikoyi': 0,\n",
       " 'Yaba': 1,\n",
       " 'Lekki': 2,\n",
       " 'Ajah': 3,\n",
       " 'Victoria island': 4,\n",
       " 'Ikeja': 5,\n",
       " 'Ilupeju': 6,\n",
       " 'Isolo': 7,\n",
       " 'Shomolu': 8,\n",
       " 'Ketu': 9,\n",
       " 'Surulere': 10,\n",
       " 'Amuwo odofin': 11,\n",
       " 'Abule egba': 12,\n",
       " 'Oshodi': 13,\n",
       " 'Apapa': 14,\n",
       " 'Ikorodu': 15,\n",
       " 'Ojodu': 16,\n",
       " 'Ipaja': 17,\n",
       " 'Egbeda': 18,\n",
       " 'Ikotun': 19,\n",
       " 'Idimu': 20,\n",
       " 'Ogba': 21,\n",
       " 'Igando': 22,\n",
       " 'Akowonjo': 23,\n",
       " 'Ikate-lekki': 24,\n",
       " 'Ikota-lekki': 25,\n",
       " 'Chevron-lekki': 26,\n",
       " 'Phase1-lekki': 27,\n",
       " 'Phase2-lekki': 28,\n",
       " 'Vgc-lekki': 29,\n",
       " 'Ibeju-lekki': 30,\n",
       " 'Osapa london lekki': 31,\n",
       " 'Agungi lekki': 32,\n",
       " 'Opebi-ikeja': 33,\n",
       " 'Allen avenue-ikeja': 34,\n",
       " 'Gra-ikeja': 35,\n",
       " 'Oregun-ikeja': 36,\n",
       " 'Akoka-yaba': 37,\n",
       " 'Alagomeji-yaba': 38,\n",
       " 'Adekunle-yaba': 39,\n",
       " 'Abule oja-yaba': 40,\n",
       " 'Abule ijesha-yaba': 41,\n",
       " 'Onike-yaba': 42,\n",
       " 'Jibowu-yaba': 43,\n",
       " 'Sabo-yaba': 44,\n",
       " 'Iwaya-yaba': 45,\n",
       " 'Ebute metta-yaba': 46,\n",
       " 'Fola agoro-yaba': 47,\n",
       " 'Ago palace-okota': 48,\n",
       " 'Okota': 49,\n",
       " 'Phase1-gbagada': 50,\n",
       " 'Phase2-gbagada': 51,\n",
       " 'Ifako-gbagada': 52,\n",
       " 'Oworonshoki-gbagada': 53,\n",
       " 'Soluyi-gbagada': 54,\n",
       " 'Medina-gbagada': 55,\n",
       " 'Gbagada': 56,\n",
       " 'Anthony village-maryland': 57,\n",
       " 'Mende-maryland': 58,\n",
       " 'Maryland': 59,\n",
       " 'Ikotun-igando': 60,\n",
       " 'Ojo': 61,\n",
       " 'Ayobo': 62,\n",
       " 'Akesan': 63,\n",
       " 'Fagba-agege': 64,\n",
       " 'Cement-agege': 65,\n",
       " 'Oko oba-agege': 66,\n",
       " 'Ifako-agege': 67,\n",
       " 'Iju ishaga-agege': 68,\n",
       " 'Orile-agege': 69,\n",
       " 'Agege': 70,\n",
       " 'Marina-lagos island': 71,\n",
       " 'Obalende-lagos island': 72,\n",
       " 'Lagos island': 73,\n",
       " 'Ilasamaja-mushin': 74,\n",
       " 'Mushin': 75,\n",
       " 'Phase1-magodo': 76,\n",
       " 'Phase2-magodo': 77,\n",
       " 'Ojota': 78,\n",
       " 'Ogudu': 79,\n",
       " 'Alapere-ketu': 80,\n",
       " 'Mile12-ketu': 81,\n",
       " 'Shangisha-ketu': 82,\n",
       " 'Ikosi-ketu': 83,\n",
       " 'Epe': 84,\n",
       " 'Alimosho': 85,\n",
       " 'Bariga': 86,\n",
       " 'Ejigbo': 87,\n",
       " 'Sangotedo': 88,\n",
       " 'Badagry': 89,\n",
       " 'Iganmu-orile': 90}"
      ]
     },
     "execution_count": 18,
     "metadata": {},
     "output_type": "execute_result"
    }
   ],
   "source": [
    "my_dict"
   ]
  },
  {
   "cell_type": "code",
   "execution_count": 19,
   "id": "fecff338-341d-4fef-91a4-828cd92d0fdd",
   "metadata": {},
   "outputs": [],
   "source": [
    "location_dict = my_dict"
   ]
  },
  {
   "cell_type": "code",
   "execution_count": 20,
   "id": "2a501d27-c1cf-4927-9dd1-1f2c64ff5de5",
   "metadata": {},
   "outputs": [],
   "source": [
    "new_dict = df_copy[\"HOUSE_TYPE\"].value_counts().to_dict()"
   ]
  },
  {
   "cell_type": "code",
   "execution_count": 21,
   "id": "d224dc4b-6e0c-4070-8d99-4beedb08b8fc",
   "metadata": {},
   "outputs": [
    {
     "data": {
      "text/plain": [
       "{'FLAT': 47432, 'HOUSE': 11932, 'DUPLEX': 5081, 'BUNGALOW': 376}"
      ]
     },
     "execution_count": 21,
     "metadata": {},
     "output_type": "execute_result"
    }
   ],
   "source": [
    "new_dict"
   ]
  },
  {
   "cell_type": "code",
   "execution_count": 22,
   "id": "d4effaa6-2bb1-4599-9266-881b320d22cb",
   "metadata": {},
   "outputs": [],
   "source": [
    "house_dict = {'FLAT': 1, 'HOUSE': 2, 'DUPLEX': 3, 'BUNGALOW': 4}"
   ]
  },
  {
   "cell_type": "code",
   "execution_count": 23,
   "id": "9f0fef24-d0dc-49fc-b2a8-158619c0e281",
   "metadata": {},
   "outputs": [],
   "source": [
    "# map the House type and location using the dictionary created \n",
    "df_copy[\"HOUSE_TYPE\"] = df_copy.HOUSE_TYPE.map(house_dict)\n",
    "df_copy[\"LOCATION\"] = df_copy.LOCATION.map(location_dict)"
   ]
  },
  {
   "cell_type": "code",
   "execution_count": 24,
   "id": "b4a83608-9578-411a-a03f-3eda525c65e7",
   "metadata": {},
   "outputs": [
    {
     "data": {
      "text/html": [
       "<div>\n",
       "<style scoped>\n",
       "    .dataframe tbody tr th:only-of-type {\n",
       "        vertical-align: middle;\n",
       "    }\n",
       "\n",
       "    .dataframe tbody tr th {\n",
       "        vertical-align: top;\n",
       "    }\n",
       "\n",
       "    .dataframe thead th {\n",
       "        text-align: right;\n",
       "    }\n",
       "</style>\n",
       "<table border=\"1\" class=\"dataframe\">\n",
       "  <thead>\n",
       "    <tr style=\"text-align: right;\">\n",
       "      <th></th>\n",
       "      <th>LOCATION</th>\n",
       "      <th>PRICE</th>\n",
       "      <th>DATE ADDED</th>\n",
       "      <th>BEDROOMS</th>\n",
       "      <th>BATHROOMS</th>\n",
       "      <th>TOILETS</th>\n",
       "      <th>HOUSE_TYPE</th>\n",
       "    </tr>\n",
       "  </thead>\n",
       "  <tbody>\n",
       "    <tr>\n",
       "      <th>1</th>\n",
       "      <td>0</td>\n",
       "      <td>10000000.0</td>\n",
       "      <td>2022-08-12</td>\n",
       "      <td>3</td>\n",
       "      <td>3</td>\n",
       "      <td>4</td>\n",
       "      <td>1</td>\n",
       "    </tr>\n",
       "    <tr>\n",
       "      <th>2</th>\n",
       "      <td>0</td>\n",
       "      <td>10000000.0</td>\n",
       "      <td>2022-08-10</td>\n",
       "      <td>3</td>\n",
       "      <td>3</td>\n",
       "      <td>4</td>\n",
       "      <td>1</td>\n",
       "    </tr>\n",
       "    <tr>\n",
       "      <th>10</th>\n",
       "      <td>0</td>\n",
       "      <td>8500000.0</td>\n",
       "      <td>2022-08-10</td>\n",
       "      <td>3</td>\n",
       "      <td>2</td>\n",
       "      <td>3</td>\n",
       "      <td>1</td>\n",
       "    </tr>\n",
       "    <tr>\n",
       "      <th>11</th>\n",
       "      <td>0</td>\n",
       "      <td>6000000.0</td>\n",
       "      <td>2022-08-10</td>\n",
       "      <td>3</td>\n",
       "      <td>3</td>\n",
       "      <td>4</td>\n",
       "      <td>1</td>\n",
       "    </tr>\n",
       "    <tr>\n",
       "      <th>15</th>\n",
       "      <td>0</td>\n",
       "      <td>6000000.0</td>\n",
       "      <td>2022-08-10</td>\n",
       "      <td>3</td>\n",
       "      <td>3</td>\n",
       "      <td>4</td>\n",
       "      <td>2</td>\n",
       "    </tr>\n",
       "  </tbody>\n",
       "</table>\n",
       "</div>"
      ],
      "text/plain": [
       "    LOCATION       PRICE  DATE ADDED  BEDROOMS  BATHROOMS  TOILETS  HOUSE_TYPE\n",
       "1          0  10000000.0  2022-08-12         3          3        4           1\n",
       "2          0  10000000.0  2022-08-10         3          3        4           1\n",
       "10         0   8500000.0  2022-08-10         3          2        3           1\n",
       "11         0   6000000.0  2022-08-10         3          3        4           1\n",
       "15         0   6000000.0  2022-08-10         3          3        4           2"
      ]
     },
     "execution_count": 24,
     "metadata": {},
     "output_type": "execute_result"
    }
   ],
   "source": [
    "df_copy.head()"
   ]
  },
  {
   "cell_type": "code",
   "execution_count": 1,
   "id": "52e8c914-9ebe-45c7-9e73-ff4a9f1b72e4",
   "metadata": {},
   "outputs": [],
   "source": [
    "# drop the target label and assign it to x. assign the target label as y"
   ]
  },
  {
   "cell_type": "code",
   "execution_count": 25,
   "id": "e0c42512-8bfa-4e3d-a8ae-b45108611e14",
   "metadata": {},
   "outputs": [],
   "source": [
    "x = df_copy[['BEDROOMS', 'BATHROOMS', 'TOILETS', 'LOCATION', 'HOUSE_TYPE']]"
   ]
  },
  {
   "cell_type": "code",
   "execution_count": 26,
   "id": "96972ebf-a9aa-44f0-8a0b-79ee8e329a77",
   "metadata": {},
   "outputs": [],
   "source": [
    "y = df_copy['PRICE']"
   ]
  },
  {
   "cell_type": "code",
   "execution_count": 27,
   "id": "a86da51b-ef8b-45d1-a915-e29e7ef9cf27",
   "metadata": {},
   "outputs": [],
   "source": [
    "from xgboost import XGBRegressor"
   ]
  },
  {
   "cell_type": "code",
   "execution_count": 2,
   "id": "877ac046-353a-4111-84b0-714c72dfc956",
   "metadata": {},
   "outputs": [],
   "source": [
    "# split data into trainibg and testing data set"
   ]
  },
  {
   "cell_type": "code",
   "execution_count": 28,
   "id": "8a921405-4c06-4480-954a-1e4b1e04fdfd",
   "metadata": {},
   "outputs": [],
   "source": [
    "X_train_val, X_test, y_train_val, y_test = train_test_split(x, y, test_size=0.2, random_state=0)\n",
    "X_train, X_val, y_train, y_val = train_test_split(X_train_val, y_train_val, test_size=0.25, random_state=0)"
   ]
  },
  {
   "cell_type": "code",
   "execution_count": 29,
   "id": "fd42dec9-d08b-4ddb-9f90-9ad0be7ad6d5",
   "metadata": {},
   "outputs": [],
   "source": [
    "from sklearn.model_selection import GridSearchCV"
   ]
  },
  {
   "cell_type": "code",
   "execution_count": 30,
   "id": "85801ffd-84f0-4287-b2f2-c501763a2596",
   "metadata": {},
   "outputs": [
    {
     "name": "stdout",
     "output_type": "stream",
     "text": [
      "MAE: 656168.5238352361\n",
      "MSE: 1181808856004.9792\n",
      "R2: 0.7253669451718985\n"
     ]
    }
   ],
   "source": [
    "xgb1 = XGBRegressor()\n",
    "parameters = {\n",
    "              'objective':['reg:squarederror'],\n",
    "              'learning_rate': [.0001, 0.001, .01],\n",
    "              'max_depth': [3, 5, 7],\n",
    "              'min_child_weight': [3,5,7],\n",
    "              'subsample': [0.1,0.5,1.0],\n",
    "              'colsample_bytree': [0.1, 0.5, 1.0],\n",
    "              'n_estimators': [500]}\n",
    "\n",
    "xgb_grid = GridSearchCV(xgb1,\n",
    "                        parameters,\n",
    "                        cv = 3,\n",
    "                        n_jobs = -1,\n",
    "                        verbose=0)\n",
    "\n",
    "xgb_grid.fit(X_train, y_train)\n",
    "\n",
    "xgb_cv = (xgb_grid.best_estimator_)\n",
    "\n",
    "eval_set = [(X_train, y_train),\n",
    "            (X_val, y_val)]\n",
    "\n",
    "fit_model = xgb_cv.fit(\n",
    "    X_train,\n",
    "    y_train,\n",
    "    eval_set=eval_set,\n",
    "    eval_metric='mae',\n",
    "    early_stopping_rounds=50,\n",
    "    verbose=False)\n",
    "\n",
    "print(\"MAE:\", mean_absolute_error(y_val, fit_model.predict(X_val)))\n",
    "print(\"MSE:\", mean_squared_error(y_val, fit_model.predict(X_val)))\n",
    "print(\"R2:\", r2_score(y_val, fit_model.predict(X_val)))"
   ]
  },
  {
   "cell_type": "code",
   "execution_count": 32,
   "id": "43013bb0-8542-42bf-a95b-098a3f7e7dd4",
   "metadata": {},
   "outputs": [],
   "source": [
    "import joblib"
   ]
  },
  {
   "cell_type": "code",
   "execution_count": 33,
   "id": "77df0328-b9a1-4c53-85a1-14e19b0ab55e",
   "metadata": {},
   "outputs": [
    {
     "data": {
      "text/plain": [
       "['final_xgboost_model.pkl']"
      ]
     },
     "execution_count": 33,
     "metadata": {},
     "output_type": "execute_result"
    }
   ],
   "source": [
    "# save the model as a pickle file\n",
    "joblib.dump(fit_model, 'final_xgboost_model.pkl')"
   ]
  }
 ],
 "metadata": {
  "kernelspec": {
   "display_name": "Python 3 (ipykernel)",
   "language": "python",
   "name": "python3"
  },
  "language_info": {
   "codemirror_mode": {
    "name": "ipython",
    "version": 3
   },
   "file_extension": ".py",
   "mimetype": "text/x-python",
   "name": "python",
   "nbconvert_exporter": "python",
   "pygments_lexer": "ipython3",
   "version": "3.9.7"
  }
 },
 "nbformat": 4,
 "nbformat_minor": 5
}
