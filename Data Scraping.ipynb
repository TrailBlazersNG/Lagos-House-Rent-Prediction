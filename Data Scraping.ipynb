{
 "cells": [
  {
   "cell_type": "code",
   "execution_count": 1,
   "id": "f1c68cfb-780d-4d84-9c4c-7fddacdbd168",
   "metadata": {},
   "outputs": [],
   "source": [
    "# Import necessary libraries\n",
    "import requests\n",
    "from bs4 import BeautifulSoup\n",
    "import pandas as pd\n",
    "import csv"
   ]
  },
  {
   "cell_type": "code",
   "execution_count": null,
   "id": "abfd7800-8fae-4a10-a8e1-3e58c5442985",
   "metadata": {},
   "outputs": [],
   "source": [
    "# Open a csv file to write every datapoint\n",
    "with open(\"newhousing.csv\",\"w\",encoding=\"utf8\",newline = \"\") as f:\n",
    "    thewriter = csv.writer(f)\n",
    "    # crate a list of the column names\n",
    "    header = [\"title\", \"Location\", \"price\", \"date added\",\"details\"]\n",
    "    thewriter.writerow(header)\n",
    "    # loop through the number of pages on the website\n",
    "    for i in range(0,6422):\n",
    "        url = \"https://www.propertypro.ng/property-for-rent?search=Lagos&auto=&type=&bedroom=&min_price=&max_price=&page={}\".format(i)\n",
    "        # use the request lirary to access the url\n",
    "        response = requests.get(url)\n",
    "        soup = BeautifulSoup(response.content, 'html.parser')\n",
    "        # gathering data from the div tags on the website\n",
    "        mlists = soup.find_all(\"div\", class_=\"single-room-text\")\n",
    "        for list in mlists:\n",
    "            # looping through each div tag and ectract the text from each tag\n",
    "            title = list.find('a').text.strip()\n",
    "            location =  list.find('h4', class_= \"\").text\n",
    "            price = list.find(\"h3\").text\n",
    "            date_dd = list.find('h5').text\n",
    "            details = list.find('div', class_= \"fur-areea\").text.replace('\\n','')\n",
    "            info = [title,location,price,date_dd,details]\n",
    "            # witing each row as a datapoint into the csv file\n",
    "            thewriter.writerow(info)"
   ]
  }
 ],
 "metadata": {
  "kernelspec": {
   "display_name": "Python 3 (ipykernel)",
   "language": "python",
   "name": "python3"
  },
  "language_info": {
   "codemirror_mode": {
    "name": "ipython",
    "version": 3
   },
   "file_extension": ".py",
   "mimetype": "text/x-python",
   "name": "python",
   "nbconvert_exporter": "python",
   "pygments_lexer": "ipython3",
   "version": "3.9.7"
  }
 },
 "nbformat": 4,
 "nbformat_minor": 5
}
